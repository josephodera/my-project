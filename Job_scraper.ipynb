{
 "cells": [
  {
   "cell_type": "code",
   "execution_count": null,
   "id": "e79c7861-efe6-4bbc-a767-7c44e50ffcbe",
   "metadata": {},
   "outputs": [],
   "source": [
    "import requests\n",
    "from bs4 import BeautifulSoup\n",
    "import pandas as pd\n",
    "\n",
    "def scrape_remoteok(keyword):\n",
    "    url = f\"https;//remoteok.com-{keyword}-jobs\"\n",
    "    headers = {\"User-Agent\": \"Mozilla/5.0\"}\n",
    "    response = requests.get(url,headers=headers)\n",
    "    if response.status_code != 200:\n",
    "        print('failed to retrieve the page')\n",
    "        return\n",
    "    soup = BeautiffulSoup(response.text,'html.parser')\n",
    "    jobs = []\n",
    "    job_table = soup.find(\"table\", id = \"jobsboard\")\n",
    "    if not job_table:\n",
    "        print(\"could not find the job table\")\n",
    "        return\n",
    "    for tr in job_table.find_all('tr', class_ = 'job'):  \n",
    "            for tr in job_table.find_all(\"tr\", class_=\"job\"):\n",
    "        try:\n",
    "            title = tr.find(\"h2\", itemprop=\"title\").text.strip()\n",
    "            company = tr.find(\"h3\", itemprop=\"name\").text.strip()\n",
    "            location_tag = tr.find(\"div\", class_=\"location\")\n",
    "            location = location_tag.text.strip() if location_tag else \"Worldwide\"\n",
    "            job_url = \"https://remoteok.com\" + tr.get(\"data-href\")\n",
    "\n",
    "            jobs.append({\n",
    "                \"Title\": title,\n",
    "                \"Company\": company,\n",
    "                \"Location\": location,\n",
    "                \"Link\": job_url\n",
    "            })\n",
    "        except Exception as e:\n",
    "            print(\"Error parsing a job:\", e)\n",
    "\n",
    "    df = pd.DataFrame(jobs)\n",
    "    df.to_csv(f\"{keyword}_remote_jobs.csv\", index=False)\n",
    "    print(f\"Saved {len(jobs)} jobs to {keyword}_remote_jobs.csv\")\n",
    "\n",
    "# Example usage\n",
    "if __name__ == \"__main__\":\n",
    "    keyword = input(\"Enter a job keyword (e.g. python, designer, devops): \").lower()\n",
    "    scrape_remoteok(keyword)\n",
    "\n",
    "\n",
    "    "
   ]
  }
 ],
 "metadata": {
  "kernelspec": {
   "display_name": "Python 3 (ipykernel)",
   "language": "python",
   "name": "python3"
  },
  "language_info": {
   "codemirror_mode": {
    "name": "ipython",
    "version": 3
   },
   "file_extension": ".py",
   "mimetype": "text/x-python",
   "name": "python",
   "nbconvert_exporter": "python",
   "pygments_lexer": "ipython3",
   "version": "3.12.0"
  }
 },
 "nbformat": 4,
 "nbformat_minor": 5
}
